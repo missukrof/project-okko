{
 "cells": [
  {
   "cell_type": "code",
   "execution_count": 1,
   "metadata": {
    "id": "oItzoUCM8A9p"
   },
   "outputs": [],
   "source": [
    "# pip install catboost\n",
    "# pip install -U torch\n",
    "# pip install selenium"
   ]
  },
  {
   "cell_type": "markdown",
   "metadata": {
    "id": "2gf8x1dx7RFT"
   },
   "source": [
    "# 0. Configuration"
   ]
  },
  {
   "cell_type": "code",
   "execution_count": 2,
   "metadata": {
    "id": "9KqLqdZA7RFZ"
   },
   "outputs": [],
   "source": [
    "# links to shared data MovieLens\n",
    "# source on kaggle: https://www.kaggle.com/code/quangnhatbui/movie-recommender/data\n",
    "RATINGS_SMALL_URL = 'https://drive.google.com/file/d/1BlZfCLLs5A13tbNSJZ1GPkHLWQOnPlE4/view?usp=share_link'\n",
    "MOVIES_METADATA_URL = 'https://drive.google.com/file/d/19g6-apYbZb5D-wRj4L7aYKhxS-fDM4Fb/view?usp=share_link'"
   ]
  },
  {
   "cell_type": "markdown",
   "metadata": {
    "id": "UQ3IcboV7RFa"
   },
   "source": [
    "# 1. Modules and functions"
   ]
  },
  {
   "cell_type": "code",
   "execution_count": 3,
   "metadata": {
    "id": "WgXXVZre7RFb"
   },
   "outputs": [],
   "source": [
    "# just to make it available to download w/o SSL verification\n",
    "import ssl\n",
    "ssl._create_default_https_context = ssl._create_unverified_context\n",
    "\n",
    "import random\n",
    "import numpy as np\n",
    "import pandas as pd\n",
    "import datetime as dt\n",
    "from itertools import permutations, chain\n",
    "\n",
    "import torch\n",
    "from catboost import CatBoostRegressor\n",
    "from sklearn.metrics import mean_absolute_error\n",
    "from sklearn.model_selection import train_test_split\n",
    "\n",
    "import warnings\n",
    "warnings.filterwarnings('ignore')\n",
    "\n",
    "\n",
    "RANDOM_STATE = 42"
   ]
  },
  {
   "cell_type": "markdown",
   "metadata": {
    "id": "-nUM1rfb7RFc"
   },
   "source": [
    "## 1.1. Helper functions to avoid copy paste"
   ]
  },
  {
   "cell_type": "code",
   "execution_count": 4,
   "metadata": {
    "id": "jODDtG1R7RFd"
   },
   "outputs": [],
   "source": [
    "def read_csv_from_gdrive(url):\n",
    "    \"\"\"\n",
    "    gets csv data from a given url (taken from file -> share -> copy link)\n",
    "    :url: example https://drive.google.com/file/d/1BlZfCLLs5A13tbNSJZ1GPkHLWQOnPlE4/view?usp=share_link\n",
    "    \"\"\"\n",
    "    file_id = url.split('/')[-2]\n",
    "    file_path = 'https://drive.google.com/uc?export=download&id=' + file_id\n",
    "    data = pd.read_csv(file_path)\n",
    "\n",
    "    return data"
   ]
  },
  {
   "cell_type": "markdown",
   "metadata": {
    "id": "THofbumq7RFe"
   },
   "source": [
    "# 2. Main"
   ]
  },
  {
   "cell_type": "markdown",
   "metadata": {
    "id": "ltMqT3j-7RFe"
   },
   "source": [
    "## 2.1. RankNet"
   ]
  },
  {
   "cell_type": "code",
   "execution_count": 5,
   "metadata": {
    "id": "T_5Ah14u7RFf"
   },
   "outputs": [],
   "source": [
    "class RankNet(torch.nn.Module):\n",
    "    def __init__(self, input_features_len, hidden_dim = 10):\n",
    "        super().__init__()\n",
    "        self.hidden_dim = hidden_dim\n",
    "        self.model = torch.nn.Sequential(\n",
    "            torch.nn.Linear(input_features_len, self.hidden_dim), # y = ax + b,\n",
    "            torch.nn.ReLU(),\n",
    "            torch.nn.Linear(self.hidden_dim, 1),\n",
    "        )\n",
    "        \n",
    "        self.out_activation = torch.nn.Sigmoid() # this transformation equiavalent to RankNet formula\n",
    "\n",
    "    def forward(self, input_1, input_2):\n",
    "        logits_1 = self.predict(input_1)\n",
    "        logits_2 = self.predict(input_2)\n",
    "        \n",
    "        logits_diff = logits_1 - logits_2\n",
    "        out = self.out_activation(logits_diff)\n",
    "\n",
    "        return out\n",
    "    \n",
    "    def predict(self, inp):\n",
    "        logits = self.model(inp)\n",
    "        return logits"
   ]
  },
  {
   "cell_type": "code",
   "execution_count": 6,
   "metadata": {
    "colab": {
     "base_uri": "https://localhost:8080/"
    },
    "id": "dQxPdgDi7RFf",
    "outputId": "c01325d3-0ffe-42ad-f4f0-6cb22d987596"
   },
   "outputs": [
    {
     "data": {
      "text/plain": [
       "RankNet(\n",
       "  (model): Sequential(\n",
       "    (0): Linear(in_features=8, out_features=10, bias=True)\n",
       "    (1): ReLU()\n",
       "    (2): Linear(in_features=10, out_features=1, bias=True)\n",
       "  )\n",
       "  (out_activation): Sigmoid()\n",
       ")"
      ]
     },
     "execution_count": 6,
     "metadata": {},
     "output_type": "execute_result"
    }
   ],
   "source": [
    "model = RankNet(input_features_len = 8)\n",
    "model"
   ]
  },
  {
   "cell_type": "code",
   "execution_count": 7,
   "metadata": {
    "colab": {
     "base_uri": "https://localhost:8080/"
    },
    "id": "KqNVPXsK7RFg",
    "outputId": "3d8a857d-a5d2-4ec6-abcb-891d31d7c41b"
   },
   "outputs": [
    {
     "data": {
      "text/plain": [
       "tensor([[0.1416, 0.1595, 0.6878, 0.6527, 0.1364, 0.6421, 0.9856, 0.3914],\n",
       "        [0.6234, 0.1256, 0.8645, 0.0542, 0.4770, 0.0501, 0.0797, 0.0486],\n",
       "        [0.8362, 0.8594, 0.6269, 0.7115, 0.3312, 0.7281, 0.6260, 0.6810],\n",
       "        [0.2511, 0.9560, 0.2472, 0.1402, 0.5264, 0.8363, 0.5836, 0.6499]])"
      ]
     },
     "execution_count": 7,
     "metadata": {},
     "output_type": "execute_result"
    }
   ],
   "source": [
    "input_1, input_2 = torch.rand(4, 8), torch.rand(4, 8)\n",
    "input_2"
   ]
  },
  {
   "cell_type": "code",
   "execution_count": 8,
   "metadata": {
    "colab": {
     "base_uri": "https://localhost:8080/"
    },
    "id": "ZdE1ZmBc7RFh",
    "outputId": "26ecef64-c97b-4ab4-b4fc-7b0864e8beee"
   },
   "outputs": [
    {
     "data": {
      "text/plain": [
       "tensor([[0.1974, 0.1278, 0.3878, 0.2634, 0.2498, 0.2429, 0.1142, 0.6649],\n",
       "        [0.9958, 0.2707, 0.9122, 0.0067, 0.1628, 0.4796, 0.6739, 0.4640],\n",
       "        [0.8498, 0.2913, 0.8699, 0.9376, 0.9358, 0.8015, 0.8049, 0.0130],\n",
       "        [0.9117, 0.6116, 0.3862, 0.8582, 0.1365, 0.2872, 0.7022, 0.0552]])"
      ]
     },
     "execution_count": 8,
     "metadata": {},
     "output_type": "execute_result"
    }
   ],
   "source": [
    "input_1"
   ]
  },
  {
   "cell_type": "markdown",
   "metadata": {
    "id": "Wusk4NUr7RFh"
   },
   "source": [
    "$$P_{ij} \\equiv P(U_{i}>U_{j}) \\equiv \\frac{1}{1 + \\exp^{-\\sigma(s_{i} - s{j})}}$$\n"
   ]
  },
  {
   "cell_type": "code",
   "execution_count": 9,
   "metadata": {
    "colab": {
     "base_uri": "https://localhost:8080/"
    },
    "id": "x-dd0PJZ7RFh",
    "outputId": "f0699b73-c6e3-4314-adce-48b8629207ca"
   },
   "outputs": [
    {
     "data": {
      "text/plain": [
       "tensor([[0.5232],\n",
       "        [0.4989],\n",
       "        [0.4902],\n",
       "        [0.4834]], grad_fn=<SortBackward>)"
      ]
     },
     "execution_count": 9,
     "metadata": {},
     "output_type": "execute_result"
    }
   ],
   "source": [
    "preds = torch.sort(model(input_1, input_2), descending = True, dim = 0)\n",
    "preds[0]"
   ]
  },
  {
   "cell_type": "markdown",
   "metadata": {
    "id": "Q3BHjCQQ7RFh"
   },
   "source": [
    "## 2.2. ListNet"
   ]
  },
  {
   "cell_type": "code",
   "execution_count": 10,
   "metadata": {
    "colab": {
     "base_uri": "https://localhost:8080/"
    },
    "id": "VW42H5cf7RFi",
    "outputId": "78ef3329-d1be-4486-9c54-fc33c59ab00b"
   },
   "outputs": [
    {
     "name": "stdout",
     "output_type": "stream",
     "text": [
      "('The Godfather', 'Ozark', 'Avatar')\n",
      "('The Godfather', 'Avatar', 'Ozark')\n",
      "('Ozark', 'The Godfather', 'Avatar')\n",
      "('Ozark', 'Avatar', 'The Godfather')\n",
      "('Avatar', 'The Godfather', 'Ozark')\n",
      "('Avatar', 'Ozark', 'The Godfather')\n"
     ]
    }
   ],
   "source": [
    "movies_to_rank = {'The Godfather', 'Avatar', 'Ozark'}\n",
    "permutations_list = list(permutations(movies_to_rank))\n",
    "\n",
    "for i in permutations_list:\n",
    "    print(i)"
   ]
  },
  {
   "cell_type": "code",
   "execution_count": 11,
   "metadata": {
    "colab": {
     "base_uri": "https://localhost:8080/"
    },
    "id": "P5MaTFn27RFi",
    "outputId": "eeb07c96-3868-4231-dc2f-a4f13011c644"
   },
   "outputs": [
    {
     "name": "stdout",
     "output_type": "stream",
     "text": [
      "('Avatar', 'The Godfather', 'Ozark')\n"
     ]
    }
   ],
   "source": [
    "pi = random.choice(permutations_list)\n",
    "print(pi)"
   ]
  },
  {
   "cell_type": "code",
   "execution_count": 12,
   "metadata": {
    "colab": {
     "base_uri": "https://localhost:8080/"
    },
    "id": "d-G3WRr47RFi",
    "outputId": "3f4cd384-1607-4e71-f607-b07fca5d8863"
   },
   "outputs": [
    {
     "name": "stdout",
     "output_type": "stream",
     "text": [
      "{'The Godfather': 0.4967141530112327, 'Ozark': -0.13826430117118466, 'Avatar': 0.6476885381006925}\n"
     ]
    }
   ],
   "source": [
    "np.random.seed(RANDOM_STATE)\n",
    "scores_dict = {x: np.random.randn(1)[0] for x in movies_to_rank}  \n",
    "print(scores_dict)\n",
    "\n",
    "# unpack pi and assign movies to scores\n",
    "score_movie_pos_1, score_movie_pos_2, score_movie_pos_3 = scores_dict[pi[0]], scores_dict[pi[1]], scores_dict[pi[2]]\n"
   ]
  },
  {
   "cell_type": "code",
   "execution_count": 13,
   "metadata": {
    "colab": {
     "base_uri": "https://localhost:8080/"
    },
    "id": "W5ZjTvc07RFi",
    "outputId": "af0264f5-1240-46e2-b390-6fbbcaf0b4bc"
   },
   "outputs": [
    {
     "name": "stdout",
     "output_type": "stream",
     "text": [
      "First term is: 0.4318619033836114\n",
      "Second term is: 0.6536174529063914\n",
      "Third term is: 1.0\n"
     ]
    }
   ],
   "source": [
    "first_term = np.exp(score_movie_pos_1) / (np.exp(score_movie_pos_1) + np.exp(score_movie_pos_2)\\\n",
    "                                         + np.exp(score_movie_pos_3))\n",
    "\n",
    "second_term = np.exp(score_movie_pos_2) / (np.exp(score_movie_pos_2) + np.exp(score_movie_pos_3))\n",
    "\n",
    "third_term = np.exp(score_movie_pos_3) / np.exp(score_movie_pos_3)\n",
    "\n",
    "print(f'First term is: {first_term}')\n",
    "print(f'Second term is: {second_term}')\n",
    "print(f'Third term is: {third_term}')"
   ]
  },
  {
   "cell_type": "markdown",
   "metadata": {
    "id": "qUH6E4oe7RFj"
   },
   "source": [
    "$P_{s}(<The Godfather, Avatar, Ozark>) = \\prod^3_{j = 1} \\frac {\\phi(s_{\\pi(j)})} {\\sum^3_{k = j} \\phi(s_{\\pi(k)})}$ which is equal to"
   ]
  },
  {
   "cell_type": "code",
   "execution_count": 14,
   "metadata": {
    "colab": {
     "base_uri": "https://localhost:8080/"
    },
    "id": "XuWJnvTT7RFj",
    "outputId": "eb05a155-4f63-440b-c86c-e33fc1eeaaec"
   },
   "outputs": [
    {
     "name": "stdout",
     "output_type": "stream",
     "text": [
      "Permutation probability is: 0.2822724772969022\n"
     ]
    }
   ],
   "source": [
    "permutation_proba = first_term * second_term * third_term\n",
    "\n",
    "print(f'Permutation probability is: {permutation_proba}')\n"
   ]
  },
  {
   "cell_type": "markdown",
   "metadata": {
    "id": "PVwxtUtf7RFj"
   },
   "source": [
    "## 2.3. CatBoost Ranker"
   ]
  },
  {
   "cell_type": "markdown",
   "metadata": {
    "id": "qq7KScMM7RFk"
   },
   "source": [
    "### 2.3.1. Load Data"
   ]
  },
  {
   "cell_type": "markdown",
   "metadata": {
    "id": "gEPmYiAf7RFk"
   },
   "source": [
    "`interactions` dataset shows list of movies that users watched, along with given ratings:"
   ]
  },
  {
   "cell_type": "code",
   "execution_count": 15,
   "metadata": {
    "colab": {
     "base_uri": "https://localhost:8080/",
     "height": 206
    },
    "id": "onFDi9Db7RFk",
    "outputId": "7d4fb34a-bd57-408c-f447-d2211ecd7c06"
   },
   "outputs": [
    {
     "data": {
      "text/html": [
       "<div>\n",
       "<style scoped>\n",
       "    .dataframe tbody tr th:only-of-type {\n",
       "        vertical-align: middle;\n",
       "    }\n",
       "\n",
       "    .dataframe tbody tr th {\n",
       "        vertical-align: top;\n",
       "    }\n",
       "\n",
       "    .dataframe thead th {\n",
       "        text-align: right;\n",
       "    }\n",
       "</style>\n",
       "<table border=\"1\" class=\"dataframe\">\n",
       "  <thead>\n",
       "    <tr style=\"text-align: right;\">\n",
       "      <th></th>\n",
       "      <th>userId</th>\n",
       "      <th>movieId</th>\n",
       "      <th>rating</th>\n",
       "      <th>timestamp</th>\n",
       "    </tr>\n",
       "  </thead>\n",
       "  <tbody>\n",
       "    <tr>\n",
       "      <th>0</th>\n",
       "      <td>1</td>\n",
       "      <td>31</td>\n",
       "      <td>2.5</td>\n",
       "      <td>1260759144</td>\n",
       "    </tr>\n",
       "    <tr>\n",
       "      <th>1</th>\n",
       "      <td>1</td>\n",
       "      <td>1029</td>\n",
       "      <td>3.0</td>\n",
       "      <td>1260759179</td>\n",
       "    </tr>\n",
       "    <tr>\n",
       "      <th>2</th>\n",
       "      <td>1</td>\n",
       "      <td>1061</td>\n",
       "      <td>3.0</td>\n",
       "      <td>1260759182</td>\n",
       "    </tr>\n",
       "    <tr>\n",
       "      <th>3</th>\n",
       "      <td>1</td>\n",
       "      <td>1129</td>\n",
       "      <td>2.0</td>\n",
       "      <td>1260759185</td>\n",
       "    </tr>\n",
       "    <tr>\n",
       "      <th>4</th>\n",
       "      <td>1</td>\n",
       "      <td>1172</td>\n",
       "      <td>4.0</td>\n",
       "      <td>1260759205</td>\n",
       "    </tr>\n",
       "  </tbody>\n",
       "</table>\n",
       "</div>"
      ],
      "text/plain": [
       "   userId  movieId  rating   timestamp\n",
       "0       1       31     2.5  1260759144\n",
       "1       1     1029     3.0  1260759179\n",
       "2       1     1061     3.0  1260759182\n",
       "3       1     1129     2.0  1260759185\n",
       "4       1     1172     4.0  1260759205"
      ]
     },
     "execution_count": 15,
     "metadata": {},
     "output_type": "execute_result"
    }
   ],
   "source": [
    "# interactions data\n",
    "interactions = read_csv_from_gdrive(RATINGS_SMALL_URL)\n",
    "interactions.head()"
   ]
  },
  {
   "cell_type": "markdown",
   "metadata": {
    "id": "RMqRoSLg7RFk"
   },
   "source": [
    "`movies_metadata` dataset shows the list of movies existing on OKKO platform:"
   ]
  },
  {
   "cell_type": "code",
   "execution_count": 16,
   "metadata": {
    "colab": {
     "base_uri": "https://localhost:8080/",
     "height": 514
    },
    "id": "qTMF4Kr_7RFk",
    "outputId": "09326006-7a31-4fde-ea73-63c80bc6b6e3"
   },
   "outputs": [
    {
     "data": {
      "text/html": [
       "<div>\n",
       "<style scoped>\n",
       "    .dataframe tbody tr th:only-of-type {\n",
       "        vertical-align: middle;\n",
       "    }\n",
       "\n",
       "    .dataframe tbody tr th {\n",
       "        vertical-align: top;\n",
       "    }\n",
       "\n",
       "    .dataframe thead th {\n",
       "        text-align: right;\n",
       "    }\n",
       "</style>\n",
       "<table border=\"1\" class=\"dataframe\">\n",
       "  <thead>\n",
       "    <tr style=\"text-align: right;\">\n",
       "      <th></th>\n",
       "      <th>adult</th>\n",
       "      <th>belongs_to_collection</th>\n",
       "      <th>budget</th>\n",
       "      <th>genres</th>\n",
       "      <th>homepage</th>\n",
       "      <th>id</th>\n",
       "      <th>imdb_id</th>\n",
       "      <th>original_language</th>\n",
       "      <th>original_title</th>\n",
       "      <th>overview</th>\n",
       "      <th>...</th>\n",
       "      <th>release_date</th>\n",
       "      <th>revenue</th>\n",
       "      <th>runtime</th>\n",
       "      <th>spoken_languages</th>\n",
       "      <th>status</th>\n",
       "      <th>tagline</th>\n",
       "      <th>title</th>\n",
       "      <th>video</th>\n",
       "      <th>vote_average</th>\n",
       "      <th>vote_count</th>\n",
       "    </tr>\n",
       "  </thead>\n",
       "  <tbody>\n",
       "    <tr>\n",
       "      <th>0</th>\n",
       "      <td>False</td>\n",
       "      <td>{'id': 10194, 'name': 'Toy Story Collection', ...</td>\n",
       "      <td>30000000</td>\n",
       "      <td>[{'id': 16, 'name': 'Animation'}, {'id': 35, '...</td>\n",
       "      <td>http://toystory.disney.com/toy-story</td>\n",
       "      <td>862</td>\n",
       "      <td>tt0114709</td>\n",
       "      <td>en</td>\n",
       "      <td>Toy Story</td>\n",
       "      <td>Led by Woody, Andy's toys live happily in his ...</td>\n",
       "      <td>...</td>\n",
       "      <td>1995-10-30</td>\n",
       "      <td>373554033.0</td>\n",
       "      <td>81.0</td>\n",
       "      <td>[{'iso_639_1': 'en', 'name': 'English'}]</td>\n",
       "      <td>Released</td>\n",
       "      <td>NaN</td>\n",
       "      <td>Toy Story</td>\n",
       "      <td>False</td>\n",
       "      <td>7.7</td>\n",
       "      <td>5415.0</td>\n",
       "    </tr>\n",
       "    <tr>\n",
       "      <th>1</th>\n",
       "      <td>False</td>\n",
       "      <td>NaN</td>\n",
       "      <td>65000000</td>\n",
       "      <td>[{'id': 12, 'name': 'Adventure'}, {'id': 14, '...</td>\n",
       "      <td>NaN</td>\n",
       "      <td>8844</td>\n",
       "      <td>tt0113497</td>\n",
       "      <td>en</td>\n",
       "      <td>Jumanji</td>\n",
       "      <td>When siblings Judy and Peter discover an encha...</td>\n",
       "      <td>...</td>\n",
       "      <td>1995-12-15</td>\n",
       "      <td>262797249.0</td>\n",
       "      <td>104.0</td>\n",
       "      <td>[{'iso_639_1': 'en', 'name': 'English'}, {'iso...</td>\n",
       "      <td>Released</td>\n",
       "      <td>Roll the dice and unleash the excitement!</td>\n",
       "      <td>Jumanji</td>\n",
       "      <td>False</td>\n",
       "      <td>6.9</td>\n",
       "      <td>2413.0</td>\n",
       "    </tr>\n",
       "    <tr>\n",
       "      <th>2</th>\n",
       "      <td>False</td>\n",
       "      <td>{'id': 119050, 'name': 'Grumpy Old Men Collect...</td>\n",
       "      <td>0</td>\n",
       "      <td>[{'id': 10749, 'name': 'Romance'}, {'id': 35, ...</td>\n",
       "      <td>NaN</td>\n",
       "      <td>15602</td>\n",
       "      <td>tt0113228</td>\n",
       "      <td>en</td>\n",
       "      <td>Grumpier Old Men</td>\n",
       "      <td>A family wedding reignites the ancient feud be...</td>\n",
       "      <td>...</td>\n",
       "      <td>1995-12-22</td>\n",
       "      <td>0.0</td>\n",
       "      <td>101.0</td>\n",
       "      <td>[{'iso_639_1': 'en', 'name': 'English'}]</td>\n",
       "      <td>Released</td>\n",
       "      <td>Still Yelling. Still Fighting. Still Ready for...</td>\n",
       "      <td>Grumpier Old Men</td>\n",
       "      <td>False</td>\n",
       "      <td>6.5</td>\n",
       "      <td>92.0</td>\n",
       "    </tr>\n",
       "  </tbody>\n",
       "</table>\n",
       "<p>3 rows × 24 columns</p>\n",
       "</div>"
      ],
      "text/plain": [
       "   adult                              belongs_to_collection    budget  \\\n",
       "0  False  {'id': 10194, 'name': 'Toy Story Collection', ...  30000000   \n",
       "1  False                                                NaN  65000000   \n",
       "2  False  {'id': 119050, 'name': 'Grumpy Old Men Collect...         0   \n",
       "\n",
       "                                              genres  \\\n",
       "0  [{'id': 16, 'name': 'Animation'}, {'id': 35, '...   \n",
       "1  [{'id': 12, 'name': 'Adventure'}, {'id': 14, '...   \n",
       "2  [{'id': 10749, 'name': 'Romance'}, {'id': 35, ...   \n",
       "\n",
       "                               homepage     id    imdb_id original_language  \\\n",
       "0  http://toystory.disney.com/toy-story    862  tt0114709                en   \n",
       "1                                   NaN   8844  tt0113497                en   \n",
       "2                                   NaN  15602  tt0113228                en   \n",
       "\n",
       "     original_title                                           overview  ...  \\\n",
       "0         Toy Story  Led by Woody, Andy's toys live happily in his ...  ...   \n",
       "1           Jumanji  When siblings Judy and Peter discover an encha...  ...   \n",
       "2  Grumpier Old Men  A family wedding reignites the ancient feud be...  ...   \n",
       "\n",
       "  release_date      revenue runtime  \\\n",
       "0   1995-10-30  373554033.0    81.0   \n",
       "1   1995-12-15  262797249.0   104.0   \n",
       "2   1995-12-22          0.0   101.0   \n",
       "\n",
       "                                    spoken_languages    status  \\\n",
       "0           [{'iso_639_1': 'en', 'name': 'English'}]  Released   \n",
       "1  [{'iso_639_1': 'en', 'name': 'English'}, {'iso...  Released   \n",
       "2           [{'iso_639_1': 'en', 'name': 'English'}]  Released   \n",
       "\n",
       "                                             tagline             title  video  \\\n",
       "0                                                NaN         Toy Story  False   \n",
       "1          Roll the dice and unleash the excitement!           Jumanji  False   \n",
       "2  Still Yelling. Still Fighting. Still Ready for...  Grumpier Old Men  False   \n",
       "\n",
       "  vote_average vote_count  \n",
       "0          7.7     5415.0  \n",
       "1          6.9     2413.0  \n",
       "2          6.5       92.0  \n",
       "\n",
       "[3 rows x 24 columns]"
      ]
     },
     "execution_count": 16,
     "metadata": {},
     "output_type": "execute_result"
    }
   ],
   "source": [
    "# information about films etc\n",
    "movies_metadata = read_csv_from_gdrive(MOVIES_METADATA_URL)\n",
    "movies_metadata.head(3)"
   ]
  },
  {
   "cell_type": "code",
   "execution_count": 17,
   "metadata": {
    "id": "eDVW3-ui7RFl"
   },
   "outputs": [],
   "source": [
    "movies_metadata['id'] = movies_metadata['id'].astype(str)\n",
    "interactions['movieId'] = interactions['movieId'].astype(str)"
   ]
  },
  {
   "cell_type": "code",
   "execution_count": 18,
   "metadata": {
    "id": "MQgktWOV7RFl"
   },
   "outputs": [],
   "source": [
    "movies_metadata.rename(columns = {'id': 'movieId'}, inplace = True)"
   ]
  },
  {
   "cell_type": "code",
   "execution_count": 19,
   "metadata": {
    "colab": {
     "base_uri": "https://localhost:8080/"
    },
    "id": "F_I5dqJ07RFl",
    "outputId": "4ca3e75e-e847-4cca-9c72-cee67fbaf3c4"
   },
   "outputs": [
    {
     "name": "stdout",
     "output_type": "stream",
     "text": [
      "(100004, 4) (44989, 4)\n"
     ]
    }
   ],
   "source": [
    "# leave only those films that intersect with each other\n",
    "interactions_filtered = interactions.loc[interactions['movieId'].isin(movies_metadata['movieId'])]\n",
    "print(interactions.shape, interactions_filtered.shape)"
   ]
  },
  {
   "cell_type": "markdown",
   "metadata": {
    "id": "_5VyhqiJ7RFl"
   },
   "source": [
    "### 2.3.2 Data Preparation"
   ]
  },
  {
   "cell_type": "code",
   "execution_count": 20,
   "metadata": {
    "id": "jort48mS7RFl"
   },
   "outputs": [],
   "source": [
    "TEST_SIZE = .25"
   ]
  },
  {
   "cell_type": "code",
   "execution_count": 21,
   "metadata": {
    "id": "VaaurgXt7RFm"
   },
   "outputs": [],
   "source": [
    "# convert timestamp to date\n",
    "interactions_filtered['dttm'] = interactions_filtered['timestamp']\\\n",
    "                                .apply(lambda x: pd.to_datetime(dt.datetime.fromtimestamp(x).strftime('%Y-%m-%d')))"
   ]
  },
  {
   "cell_type": "markdown",
   "metadata": {
    "id": "pvY6grvG7RFm"
   },
   "source": [
    "Let's calculate some basic features, but keep in mind that our data of historical ratings depends on time.\n",
    "We need to avoid data leak -- use future values in past data"
   ]
  },
  {
   "cell_type": "code",
   "execution_count": 22,
   "metadata": {
    "id": "FNz7vfqw7RFm"
   },
   "outputs": [],
   "source": [
    "ITEM_FEATURES_LIST = ['revenue', 'budget', 'runtime']"
   ]
  },
  {
   "cell_type": "code",
   "execution_count": 23,
   "metadata": {
    "colab": {
     "base_uri": "https://localhost:8080/",
     "height": 81
    },
    "id": "f-Ul-5Bg7RFm",
    "outputId": "ea5af7c0-4708-4ea2-a68f-6e2e7f508ad4"
   },
   "outputs": [
    {
     "data": {
      "text/html": [
       "<div>\n",
       "<style scoped>\n",
       "    .dataframe tbody tr th:only-of-type {\n",
       "        vertical-align: middle;\n",
       "    }\n",
       "\n",
       "    .dataframe tbody tr th {\n",
       "        vertical-align: top;\n",
       "    }\n",
       "\n",
       "    .dataframe thead th {\n",
       "        text-align: right;\n",
       "    }\n",
       "</style>\n",
       "<table border=\"1\" class=\"dataframe\">\n",
       "  <thead>\n",
       "    <tr style=\"text-align: right;\">\n",
       "      <th></th>\n",
       "      <th>userId</th>\n",
       "      <th>dttm</th>\n",
       "      <th>user_mean_rating</th>\n",
       "      <th>user_watch_count</th>\n",
       "    </tr>\n",
       "  </thead>\n",
       "  <tbody>\n",
       "    <tr>\n",
       "      <th>2</th>\n",
       "      <td>3</td>\n",
       "      <td>2011-03-01</td>\n",
       "      <td>3.541667</td>\n",
       "      <td>24</td>\n",
       "    </tr>\n",
       "    <tr>\n",
       "      <th>3</th>\n",
       "      <td>3</td>\n",
       "      <td>2011-03-02</td>\n",
       "      <td>3.500000</td>\n",
       "      <td>1</td>\n",
       "    </tr>\n",
       "  </tbody>\n",
       "</table>\n",
       "</div>"
      ],
      "text/plain": [
       "   userId       dttm  user_mean_rating  user_watch_count\n",
       "2       3 2011-03-01          3.541667                24\n",
       "3       3 2011-03-02          3.500000                 1"
      ]
     },
     "execution_count": 23,
     "metadata": {},
     "output_type": "execute_result"
    }
   ],
   "source": [
    "# calculate avg ratings by users and items daily\n",
    "daily_users_feature = interactions_filtered.groupby(['userId', 'dttm']).agg({'rating': 'mean',\n",
    "                                              'movieId': 'count'})\\\n",
    "                                  .reset_index().sort_values(['userId', 'dttm'])\\\n",
    "                                  .rename(columns = {'rating': 'user_mean_rating',\n",
    "                                                     'movieId': 'user_watch_count'})\n",
    "\n",
    "\n",
    "daily_users_feature['dttm'] = daily_users_feature['dttm'].apply(lambda x: x + dt.timedelta(days = 1))\n",
    "daily_users_feature.loc[daily_users_feature['userId'] == 3]"
   ]
  },
  {
   "cell_type": "code",
   "execution_count": 24,
   "metadata": {
    "colab": {
     "base_uri": "https://localhost:8080/",
     "height": 833
    },
    "id": "gSGyu6557RFm",
    "outputId": "418ede24-5c6e-4163-bc90-d4c3900a9e71"
   },
   "outputs": [
    {
     "data": {
      "text/html": [
       "<div>\n",
       "<style scoped>\n",
       "    .dataframe tbody tr th:only-of-type {\n",
       "        vertical-align: middle;\n",
       "    }\n",
       "\n",
       "    .dataframe tbody tr th {\n",
       "        vertical-align: top;\n",
       "    }\n",
       "\n",
       "    .dataframe thead th {\n",
       "        text-align: right;\n",
       "    }\n",
       "</style>\n",
       "<table border=\"1\" class=\"dataframe\">\n",
       "  <thead>\n",
       "    <tr style=\"text-align: right;\">\n",
       "      <th></th>\n",
       "      <th>userId</th>\n",
       "      <th>movieId</th>\n",
       "      <th>rating</th>\n",
       "      <th>timestamp</th>\n",
       "      <th>dttm</th>\n",
       "    </tr>\n",
       "  </thead>\n",
       "  <tbody>\n",
       "    <tr>\n",
       "      <th>97</th>\n",
       "      <td>3</td>\n",
       "      <td>110</td>\n",
       "      <td>4.0</td>\n",
       "      <td>1298922049</td>\n",
       "      <td>2011-02-28</td>\n",
       "    </tr>\n",
       "    <tr>\n",
       "      <th>98</th>\n",
       "      <td>3</td>\n",
       "      <td>247</td>\n",
       "      <td>3.5</td>\n",
       "      <td>1298861637</td>\n",
       "      <td>2011-02-28</td>\n",
       "    </tr>\n",
       "    <tr>\n",
       "      <th>99</th>\n",
       "      <td>3</td>\n",
       "      <td>267</td>\n",
       "      <td>3.0</td>\n",
       "      <td>1298861761</td>\n",
       "      <td>2011-02-28</td>\n",
       "    </tr>\n",
       "    <tr>\n",
       "      <th>100</th>\n",
       "      <td>3</td>\n",
       "      <td>296</td>\n",
       "      <td>4.5</td>\n",
       "      <td>1298862418</td>\n",
       "      <td>2011-02-28</td>\n",
       "    </tr>\n",
       "    <tr>\n",
       "      <th>101</th>\n",
       "      <td>3</td>\n",
       "      <td>318</td>\n",
       "      <td>5.0</td>\n",
       "      <td>1298862121</td>\n",
       "      <td>2011-02-28</td>\n",
       "    </tr>\n",
       "    <tr>\n",
       "      <th>104</th>\n",
       "      <td>3</td>\n",
       "      <td>377</td>\n",
       "      <td>2.5</td>\n",
       "      <td>1298923242</td>\n",
       "      <td>2011-02-28</td>\n",
       "    </tr>\n",
       "    <tr>\n",
       "      <th>105</th>\n",
       "      <td>3</td>\n",
       "      <td>527</td>\n",
       "      <td>3.0</td>\n",
       "      <td>1298862528</td>\n",
       "      <td>2011-02-28</td>\n",
       "    </tr>\n",
       "    <tr>\n",
       "      <th>106</th>\n",
       "      <td>3</td>\n",
       "      <td>588</td>\n",
       "      <td>3.0</td>\n",
       "      <td>1298922100</td>\n",
       "      <td>2011-02-28</td>\n",
       "    </tr>\n",
       "    <tr>\n",
       "      <th>107</th>\n",
       "      <td>3</td>\n",
       "      <td>592</td>\n",
       "      <td>3.0</td>\n",
       "      <td>1298923247</td>\n",
       "      <td>2011-02-28</td>\n",
       "    </tr>\n",
       "    <tr>\n",
       "      <th>108</th>\n",
       "      <td>3</td>\n",
       "      <td>593</td>\n",
       "      <td>3.0</td>\n",
       "      <td>1298921840</td>\n",
       "      <td>2011-02-28</td>\n",
       "    </tr>\n",
       "    <tr>\n",
       "      <th>109</th>\n",
       "      <td>3</td>\n",
       "      <td>595</td>\n",
       "      <td>2.0</td>\n",
       "      <td>1298923260</td>\n",
       "      <td>2011-02-28</td>\n",
       "    </tr>\n",
       "    <tr>\n",
       "      <th>111</th>\n",
       "      <td>3</td>\n",
       "      <td>778</td>\n",
       "      <td>4.0</td>\n",
       "      <td>1298863157</td>\n",
       "      <td>2011-02-28</td>\n",
       "    </tr>\n",
       "    <tr>\n",
       "      <th>112</th>\n",
       "      <td>3</td>\n",
       "      <td>866</td>\n",
       "      <td>3.0</td>\n",
       "      <td>1298861687</td>\n",
       "      <td>2011-02-28</td>\n",
       "    </tr>\n",
       "    <tr>\n",
       "      <th>116</th>\n",
       "      <td>3</td>\n",
       "      <td>1271</td>\n",
       "      <td>3.0</td>\n",
       "      <td>1298861605</td>\n",
       "      <td>2011-02-28</td>\n",
       "    </tr>\n",
       "    <tr>\n",
       "      <th>117</th>\n",
       "      <td>3</td>\n",
       "      <td>1378</td>\n",
       "      <td>4.0</td>\n",
       "      <td>1298861658</td>\n",
       "      <td>2011-02-28</td>\n",
       "    </tr>\n",
       "    <tr>\n",
       "      <th>118</th>\n",
       "      <td>3</td>\n",
       "      <td>1580</td>\n",
       "      <td>3.5</td>\n",
       "      <td>1298922089</td>\n",
       "      <td>2011-02-28</td>\n",
       "    </tr>\n",
       "    <tr>\n",
       "      <th>119</th>\n",
       "      <td>3</td>\n",
       "      <td>1721</td>\n",
       "      <td>4.5</td>\n",
       "      <td>1298923236</td>\n",
       "      <td>2011-02-28</td>\n",
       "    </tr>\n",
       "    <tr>\n",
       "      <th>120</th>\n",
       "      <td>3</td>\n",
       "      <td>1884</td>\n",
       "      <td>4.0</td>\n",
       "      <td>1298863143</td>\n",
       "      <td>2011-02-28</td>\n",
       "    </tr>\n",
       "    <tr>\n",
       "      <th>121</th>\n",
       "      <td>3</td>\n",
       "      <td>2028</td>\n",
       "      <td>4.0</td>\n",
       "      <td>1298921862</td>\n",
       "      <td>2011-02-28</td>\n",
       "    </tr>\n",
       "    <tr>\n",
       "      <th>124</th>\n",
       "      <td>3</td>\n",
       "      <td>2694</td>\n",
       "      <td>3.0</td>\n",
       "      <td>1298862710</td>\n",
       "      <td>2011-02-28</td>\n",
       "    </tr>\n",
       "    <tr>\n",
       "      <th>127</th>\n",
       "      <td>3</td>\n",
       "      <td>2762</td>\n",
       "      <td>3.5</td>\n",
       "      <td>1298922057</td>\n",
       "      <td>2011-02-28</td>\n",
       "    </tr>\n",
       "    <tr>\n",
       "      <th>128</th>\n",
       "      <td>3</td>\n",
       "      <td>2841</td>\n",
       "      <td>4.0</td>\n",
       "      <td>1298861733</td>\n",
       "      <td>2011-02-28</td>\n",
       "    </tr>\n",
       "    <tr>\n",
       "      <th>130</th>\n",
       "      <td>3</td>\n",
       "      <td>2959</td>\n",
       "      <td>5.0</td>\n",
       "      <td>1298862874</td>\n",
       "      <td>2011-02-28</td>\n",
       "    </tr>\n",
       "    <tr>\n",
       "      <th>142</th>\n",
       "      <td>3</td>\n",
       "      <td>44191</td>\n",
       "      <td>3.5</td>\n",
       "      <td>1298932740</td>\n",
       "      <td>2011-03-01</td>\n",
       "    </tr>\n",
       "    <tr>\n",
       "      <th>145</th>\n",
       "      <td>3</td>\n",
       "      <td>58559</td>\n",
       "      <td>3.0</td>\n",
       "      <td>1298922071</td>\n",
       "      <td>2011-02-28</td>\n",
       "    </tr>\n",
       "  </tbody>\n",
       "</table>\n",
       "</div>"
      ],
      "text/plain": [
       "     userId movieId  rating   timestamp       dttm\n",
       "97        3     110     4.0  1298922049 2011-02-28\n",
       "98        3     247     3.5  1298861637 2011-02-28\n",
       "99        3     267     3.0  1298861761 2011-02-28\n",
       "100       3     296     4.5  1298862418 2011-02-28\n",
       "101       3     318     5.0  1298862121 2011-02-28\n",
       "104       3     377     2.5  1298923242 2011-02-28\n",
       "105       3     527     3.0  1298862528 2011-02-28\n",
       "106       3     588     3.0  1298922100 2011-02-28\n",
       "107       3     592     3.0  1298923247 2011-02-28\n",
       "108       3     593     3.0  1298921840 2011-02-28\n",
       "109       3     595     2.0  1298923260 2011-02-28\n",
       "111       3     778     4.0  1298863157 2011-02-28\n",
       "112       3     866     3.0  1298861687 2011-02-28\n",
       "116       3    1271     3.0  1298861605 2011-02-28\n",
       "117       3    1378     4.0  1298861658 2011-02-28\n",
       "118       3    1580     3.5  1298922089 2011-02-28\n",
       "119       3    1721     4.5  1298923236 2011-02-28\n",
       "120       3    1884     4.0  1298863143 2011-02-28\n",
       "121       3    2028     4.0  1298921862 2011-02-28\n",
       "124       3    2694     3.0  1298862710 2011-02-28\n",
       "127       3    2762     3.5  1298922057 2011-02-28\n",
       "128       3    2841     4.0  1298861733 2011-02-28\n",
       "130       3    2959     5.0  1298862874 2011-02-28\n",
       "142       3   44191     3.5  1298932740 2011-03-01\n",
       "145       3   58559     3.0  1298922071 2011-02-28"
      ]
     },
     "execution_count": 24,
     "metadata": {},
     "output_type": "execute_result"
    }
   ],
   "source": [
    "interactions_filtered.loc[interactions_filtered['userId'] == 3]"
   ]
  },
  {
   "cell_type": "code",
   "execution_count": 25,
   "metadata": {
    "colab": {
     "base_uri": "https://localhost:8080/",
     "height": 49
    },
    "id": "sfpSJdgNTOSg",
    "outputId": "78861010-ea46-4009-a3bb-28789e51a591"
   },
   "outputs": [
    {
     "data": {
      "text/html": [
       "<div>\n",
       "<style scoped>\n",
       "    .dataframe tbody tr th:only-of-type {\n",
       "        vertical-align: middle;\n",
       "    }\n",
       "\n",
       "    .dataframe tbody tr th {\n",
       "        vertical-align: top;\n",
       "    }\n",
       "\n",
       "    .dataframe thead th {\n",
       "        text-align: right;\n",
       "    }\n",
       "</style>\n",
       "<table border=\"1\" class=\"dataframe\">\n",
       "  <thead>\n",
       "    <tr style=\"text-align: right;\">\n",
       "      <th></th>\n",
       "      <th>userId</th>\n",
       "      <th>dttm</th>\n",
       "      <th>user_mean_rating</th>\n",
       "      <th>user_watch_count</th>\n",
       "    </tr>\n",
       "  </thead>\n",
       "  <tbody>\n",
       "  </tbody>\n",
       "</table>\n",
       "</div>"
      ],
      "text/plain": [
       "Empty DataFrame\n",
       "Columns: [userId, dttm, user_mean_rating, user_watch_count]\n",
       "Index: []"
      ]
     },
     "execution_count": 25,
     "metadata": {},
     "output_type": "execute_result"
    }
   ],
   "source": [
    "daily_users_feature[daily_users_feature.isna().any(axis=1)]"
   ]
  },
  {
   "cell_type": "code",
   "execution_count": 26,
   "metadata": {
    "id": "YkrVIUew7RFm"
   },
   "outputs": [],
   "source": [
    "cumulative_total_cnt = daily_users_feature.set_index('dttm').groupby(['userId'])['user_watch_count']\\\n",
    "                        .rolling(window = 3, min_periods = 1).sum()\\\n",
    "                        .reset_index()[['userId', 'dttm', 'user_watch_count']]\\\n",
    "                        .rename(columns = {'user_watch_count': 'user_total_watch_count_last_3_days'})"
   ]
  },
  {
   "cell_type": "code",
   "execution_count": 27,
   "metadata": {
    "colab": {
     "base_uri": "https://localhost:8080/",
     "height": 49
    },
    "id": "DYI4oghuTaUz",
    "outputId": "cd738de6-4ba2-4a27-9859-cecac9713fc8"
   },
   "outputs": [
    {
     "data": {
      "text/html": [
       "<div>\n",
       "<style scoped>\n",
       "    .dataframe tbody tr th:only-of-type {\n",
       "        vertical-align: middle;\n",
       "    }\n",
       "\n",
       "    .dataframe tbody tr th {\n",
       "        vertical-align: top;\n",
       "    }\n",
       "\n",
       "    .dataframe thead th {\n",
       "        text-align: right;\n",
       "    }\n",
       "</style>\n",
       "<table border=\"1\" class=\"dataframe\">\n",
       "  <thead>\n",
       "    <tr style=\"text-align: right;\">\n",
       "      <th></th>\n",
       "      <th>userId</th>\n",
       "      <th>dttm</th>\n",
       "      <th>user_total_watch_count_last_3_days</th>\n",
       "    </tr>\n",
       "  </thead>\n",
       "  <tbody>\n",
       "  </tbody>\n",
       "</table>\n",
       "</div>"
      ],
      "text/plain": [
       "Empty DataFrame\n",
       "Columns: [userId, dttm, user_total_watch_count_last_3_days]\n",
       "Index: []"
      ]
     },
     "execution_count": 27,
     "metadata": {},
     "output_type": "execute_result"
    }
   ],
   "source": [
    "cumulative_total_cnt[cumulative_total_cnt.isna().any(axis=1)]"
   ]
  },
  {
   "cell_type": "code",
   "execution_count": 28,
   "metadata": {
    "id": "O_kr4DxZ7RFn"
   },
   "outputs": [],
   "source": [
    "# merge item features\n",
    "main_df = pd.merge(\n",
    "    interactions_filtered, movies_metadata[['movieId'] + ITEM_FEATURES_LIST],\n",
    "    how = 'left', on = 'movieId'\n",
    "                   ).drop_duplicates().reset_index(drop = True)\n",
    "assert main_df.shape[0] == interactions_filtered.shape[0]"
   ]
  },
  {
   "cell_type": "code",
   "execution_count": 29,
   "metadata": {
    "colab": {
     "base_uri": "https://localhost:8080/",
     "height": 175
    },
    "id": "PtEeVpbkTi26",
    "outputId": "3c8b30f4-0890-4ab1-d0e8-d7e75a3ff68d"
   },
   "outputs": [
    {
     "data": {
      "text/html": [
       "<div>\n",
       "<style scoped>\n",
       "    .dataframe tbody tr th:only-of-type {\n",
       "        vertical-align: middle;\n",
       "    }\n",
       "\n",
       "    .dataframe tbody tr th {\n",
       "        vertical-align: top;\n",
       "    }\n",
       "\n",
       "    .dataframe thead th {\n",
       "        text-align: right;\n",
       "    }\n",
       "</style>\n",
       "<table border=\"1\" class=\"dataframe\">\n",
       "  <thead>\n",
       "    <tr style=\"text-align: right;\">\n",
       "      <th></th>\n",
       "      <th>userId</th>\n",
       "      <th>movieId</th>\n",
       "      <th>rating</th>\n",
       "      <th>timestamp</th>\n",
       "      <th>dttm</th>\n",
       "      <th>revenue</th>\n",
       "      <th>budget</th>\n",
       "      <th>runtime</th>\n",
       "    </tr>\n",
       "  </thead>\n",
       "  <tbody>\n",
       "    <tr>\n",
       "      <th>11150</th>\n",
       "      <td>176</td>\n",
       "      <td>63276</td>\n",
       "      <td>3.5</td>\n",
       "      <td>1340916711</td>\n",
       "      <td>2012-06-28</td>\n",
       "      <td>0.0</td>\n",
       "      <td>0</td>\n",
       "      <td>NaN</td>\n",
       "    </tr>\n",
       "    <tr>\n",
       "      <th>18943</th>\n",
       "      <td>299</td>\n",
       "      <td>63276</td>\n",
       "      <td>4.0</td>\n",
       "      <td>1344178309</td>\n",
       "      <td>2012-08-05</td>\n",
       "      <td>0.0</td>\n",
       "      <td>0</td>\n",
       "      <td>NaN</td>\n",
       "    </tr>\n",
       "    <tr>\n",
       "      <th>31284</th>\n",
       "      <td>481</td>\n",
       "      <td>63179</td>\n",
       "      <td>4.5</td>\n",
       "      <td>1437004063</td>\n",
       "      <td>2015-07-16</td>\n",
       "      <td>0.0</td>\n",
       "      <td>0</td>\n",
       "      <td>NaN</td>\n",
       "    </tr>\n",
       "    <tr>\n",
       "      <th>34653</th>\n",
       "      <td>531</td>\n",
       "      <td>61361</td>\n",
       "      <td>3.0</td>\n",
       "      <td>1240402775</td>\n",
       "      <td>2009-04-22</td>\n",
       "      <td>0.0</td>\n",
       "      <td>0</td>\n",
       "      <td>NaN</td>\n",
       "    </tr>\n",
       "  </tbody>\n",
       "</table>\n",
       "</div>"
      ],
      "text/plain": [
       "       userId movieId  rating   timestamp       dttm  revenue budget  runtime\n",
       "11150     176   63276     3.5  1340916711 2012-06-28      0.0      0      NaN\n",
       "18943     299   63276     4.0  1344178309 2012-08-05      0.0      0      NaN\n",
       "31284     481   63179     4.5  1437004063 2015-07-16      0.0      0      NaN\n",
       "34653     531   61361     3.0  1240402775 2009-04-22      0.0      0      NaN"
      ]
     },
     "execution_count": 29,
     "metadata": {},
     "output_type": "execute_result"
    }
   ],
   "source": [
    "main_df[main_df.isna().any(axis=1)]"
   ]
  },
  {
   "cell_type": "code",
   "execution_count": 30,
   "metadata": {
    "colab": {
     "base_uri": "https://localhost:8080/",
     "height": 375
    },
    "id": "b1zu4diuTtvB",
    "outputId": "6cae612f-db48-4ae2-9d8e-0bd8f44b3c0a"
   },
   "outputs": [
    {
     "data": {
      "text/html": [
       "<div>\n",
       "<style scoped>\n",
       "    .dataframe tbody tr th:only-of-type {\n",
       "        vertical-align: middle;\n",
       "    }\n",
       "\n",
       "    .dataframe tbody tr th {\n",
       "        vertical-align: top;\n",
       "    }\n",
       "\n",
       "    .dataframe thead th {\n",
       "        text-align: right;\n",
       "    }\n",
       "</style>\n",
       "<table border=\"1\" class=\"dataframe\">\n",
       "  <thead>\n",
       "    <tr style=\"text-align: right;\">\n",
       "      <th></th>\n",
       "      <th>adult</th>\n",
       "      <th>belongs_to_collection</th>\n",
       "      <th>budget</th>\n",
       "      <th>genres</th>\n",
       "      <th>homepage</th>\n",
       "      <th>movieId</th>\n",
       "      <th>imdb_id</th>\n",
       "      <th>original_language</th>\n",
       "      <th>original_title</th>\n",
       "      <th>overview</th>\n",
       "      <th>...</th>\n",
       "      <th>release_date</th>\n",
       "      <th>revenue</th>\n",
       "      <th>runtime</th>\n",
       "      <th>spoken_languages</th>\n",
       "      <th>status</th>\n",
       "      <th>tagline</th>\n",
       "      <th>title</th>\n",
       "      <th>video</th>\n",
       "      <th>vote_average</th>\n",
       "      <th>vote_count</th>\n",
       "    </tr>\n",
       "  </thead>\n",
       "  <tbody>\n",
       "    <tr>\n",
       "      <th>18916</th>\n",
       "      <td>False</td>\n",
       "      <td>NaN</td>\n",
       "      <td>0</td>\n",
       "      <td>[{'id': 80, 'name': 'Crime'}, {'id': 18, 'name...</td>\n",
       "      <td>NaN</td>\n",
       "      <td>61361</td>\n",
       "      <td>tt0339482</td>\n",
       "      <td>fr</td>\n",
       "      <td>L'outremangeur</td>\n",
       "      <td>NaN</td>\n",
       "      <td>...</td>\n",
       "      <td>2002-09-10</td>\n",
       "      <td>0.0</td>\n",
       "      <td>NaN</td>\n",
       "      <td>[]</td>\n",
       "      <td>Released</td>\n",
       "      <td>NaN</td>\n",
       "      <td>L'outremangeur</td>\n",
       "      <td>False</td>\n",
       "      <td>8.0</td>\n",
       "      <td>2.0</td>\n",
       "    </tr>\n",
       "    <tr>\n",
       "      <th>33003</th>\n",
       "      <td>False</td>\n",
       "      <td>NaN</td>\n",
       "      <td>0</td>\n",
       "      <td>[{'id': 18, 'name': 'Drama'}]</td>\n",
       "      <td>NaN</td>\n",
       "      <td>63276</td>\n",
       "      <td>tt0140428</td>\n",
       "      <td>it</td>\n",
       "      <td>L'odore della notte</td>\n",
       "      <td>NaN</td>\n",
       "      <td>...</td>\n",
       "      <td>1998-01-01</td>\n",
       "      <td>0.0</td>\n",
       "      <td>NaN</td>\n",
       "      <td>[{'iso_639_1': 'it', 'name': 'Italiano'}]</td>\n",
       "      <td>Released</td>\n",
       "      <td>NaN</td>\n",
       "      <td>L'odore della notte</td>\n",
       "      <td>False</td>\n",
       "      <td>6.4</td>\n",
       "      <td>9.0</td>\n",
       "    </tr>\n",
       "    <tr>\n",
       "      <th>44959</th>\n",
       "      <td>False</td>\n",
       "      <td>{'id': 421566, 'name': 'Totò Collection', 'pos...</td>\n",
       "      <td>0</td>\n",
       "      <td>[{'id': 35, 'name': 'Comedy'}]</td>\n",
       "      <td>NaN</td>\n",
       "      <td>63179</td>\n",
       "      <td>tt0043059</td>\n",
       "      <td>it</td>\n",
       "      <td>Totò Sceicco</td>\n",
       "      <td>NaN</td>\n",
       "      <td>...</td>\n",
       "      <td>1950-11-30</td>\n",
       "      <td>0.0</td>\n",
       "      <td>NaN</td>\n",
       "      <td>[{'iso_639_1': 'it', 'name': 'Italiano'}]</td>\n",
       "      <td>Released</td>\n",
       "      <td>NaN</td>\n",
       "      <td>Totò Sceicco</td>\n",
       "      <td>False</td>\n",
       "      <td>6.5</td>\n",
       "      <td>8.0</td>\n",
       "    </tr>\n",
       "  </tbody>\n",
       "</table>\n",
       "<p>3 rows × 24 columns</p>\n",
       "</div>"
      ],
      "text/plain": [
       "       adult                              belongs_to_collection budget  \\\n",
       "18916  False                                                NaN      0   \n",
       "33003  False                                                NaN      0   \n",
       "44959  False  {'id': 421566, 'name': 'Totò Collection', 'pos...      0   \n",
       "\n",
       "                                                  genres homepage movieId  \\\n",
       "18916  [{'id': 80, 'name': 'Crime'}, {'id': 18, 'name...      NaN   61361   \n",
       "33003                      [{'id': 18, 'name': 'Drama'}]      NaN   63276   \n",
       "44959                     [{'id': 35, 'name': 'Comedy'}]      NaN   63179   \n",
       "\n",
       "         imdb_id original_language       original_title overview  ...  \\\n",
       "18916  tt0339482                fr       L'outremangeur      NaN  ...   \n",
       "33003  tt0140428                it  L'odore della notte      NaN  ...   \n",
       "44959  tt0043059                it         Totò Sceicco      NaN  ...   \n",
       "\n",
       "      release_date revenue runtime                           spoken_languages  \\\n",
       "18916   2002-09-10     0.0     NaN                                         []   \n",
       "33003   1998-01-01     0.0     NaN  [{'iso_639_1': 'it', 'name': 'Italiano'}]   \n",
       "44959   1950-11-30     0.0     NaN  [{'iso_639_1': 'it', 'name': 'Italiano'}]   \n",
       "\n",
       "         status  tagline                title  video vote_average vote_count  \n",
       "18916  Released      NaN       L'outremangeur  False          8.0        2.0  \n",
       "33003  Released      NaN  L'odore della notte  False          6.4        9.0  \n",
       "44959  Released      NaN         Totò Sceicco  False          6.5        8.0  \n",
       "\n",
       "[3 rows x 24 columns]"
      ]
     },
     "execution_count": 30,
     "metadata": {},
     "output_type": "execute_result"
    }
   ],
   "source": [
    "movies_metadata[movies_metadata['movieId'].isin(list(set(main_df[main_df.isna().any(axis=1)]['movieId'].to_list())))]"
   ]
  },
  {
   "cell_type": "code",
   "execution_count": 31,
   "metadata": {
    "id": "QEiLgfq7WSNs"
   },
   "outputs": [],
   "source": [
    "ind_runtime_pairs = zip(main_df[main_df.isna().any(axis=1)]['movieId'].index.to_list(), [90.0, 90.0, 105.0, 95.0])\n",
    "\n",
    "for p in ind_runtime_pairs:\n",
    "    main_df.loc[p[0], 'runtime'] = p[1]"
   ]
  },
  {
   "cell_type": "code",
   "execution_count": 32,
   "metadata": {
    "colab": {
     "base_uri": "https://localhost:8080/",
     "height": 49
    },
    "id": "qnrJexj5VWEG",
    "outputId": "cde10303-e238-40d2-f12a-7fb71b7e3cff"
   },
   "outputs": [
    {
     "data": {
      "text/html": [
       "<div>\n",
       "<style scoped>\n",
       "    .dataframe tbody tr th:only-of-type {\n",
       "        vertical-align: middle;\n",
       "    }\n",
       "\n",
       "    .dataframe tbody tr th {\n",
       "        vertical-align: top;\n",
       "    }\n",
       "\n",
       "    .dataframe thead th {\n",
       "        text-align: right;\n",
       "    }\n",
       "</style>\n",
       "<table border=\"1\" class=\"dataframe\">\n",
       "  <thead>\n",
       "    <tr style=\"text-align: right;\">\n",
       "      <th></th>\n",
       "      <th>userId</th>\n",
       "      <th>movieId</th>\n",
       "      <th>rating</th>\n",
       "      <th>timestamp</th>\n",
       "      <th>dttm</th>\n",
       "      <th>revenue</th>\n",
       "      <th>budget</th>\n",
       "      <th>runtime</th>\n",
       "    </tr>\n",
       "  </thead>\n",
       "  <tbody>\n",
       "  </tbody>\n",
       "</table>\n",
       "</div>"
      ],
      "text/plain": [
       "Empty DataFrame\n",
       "Columns: [userId, movieId, rating, timestamp, dttm, revenue, budget, runtime]\n",
       "Index: []"
      ]
     },
     "execution_count": 32,
     "metadata": {},
     "output_type": "execute_result"
    }
   ],
   "source": [
    "main_df[main_df.isna().any(axis=1)]"
   ]
  },
  {
   "cell_type": "code",
   "execution_count": 33,
   "metadata": {
    "id": "3UgJuTGt7RFn"
   },
   "outputs": [],
   "source": [
    "main_df = main_df.sort_values('dttm').reset_index(drop = True)\n",
    "daily_users_feature = daily_users_feature.sort_values('dttm').reset_index(drop = True)\n",
    "cumulative_total_cnt = cumulative_total_cnt.sort_values('dttm').reset_index(drop = True)"
   ]
  },
  {
   "cell_type": "code",
   "execution_count": 34,
   "metadata": {
    "id": "c12AwINy7RFn"
   },
   "outputs": [],
   "source": [
    "# merge user features with watch count\n",
    "main_df = pd.merge_asof(\n",
    "    main_df, daily_users_feature,\n",
    "    on = 'dttm', by = 'userId',\n",
    "    direction = 'backward',\n",
    "    allow_exact_matches = True\n",
    "    )\n",
    "assert main_df.shape[0] == interactions_filtered.shape[0]"
   ]
  },
  {
   "cell_type": "code",
   "execution_count": 35,
   "metadata": {
    "colab": {
     "base_uri": "https://localhost:8080/",
     "height": 206
    },
    "id": "QOBJ9U5UXNnK",
    "outputId": "0d3d5860-5d01-45e1-a814-999a40e77699"
   },
   "outputs": [
    {
     "data": {
      "text/html": [
       "<div>\n",
       "<style scoped>\n",
       "    .dataframe tbody tr th:only-of-type {\n",
       "        vertical-align: middle;\n",
       "    }\n",
       "\n",
       "    .dataframe tbody tr th {\n",
       "        vertical-align: top;\n",
       "    }\n",
       "\n",
       "    .dataframe thead th {\n",
       "        text-align: right;\n",
       "    }\n",
       "</style>\n",
       "<table border=\"1\" class=\"dataframe\">\n",
       "  <thead>\n",
       "    <tr style=\"text-align: right;\">\n",
       "      <th></th>\n",
       "      <th>userId</th>\n",
       "      <th>movieId</th>\n",
       "      <th>rating</th>\n",
       "      <th>timestamp</th>\n",
       "      <th>dttm</th>\n",
       "      <th>revenue</th>\n",
       "      <th>budget</th>\n",
       "      <th>runtime</th>\n",
       "      <th>user_mean_rating</th>\n",
       "      <th>user_watch_count</th>\n",
       "    </tr>\n",
       "  </thead>\n",
       "  <tbody>\n",
       "    <tr>\n",
       "      <th>0</th>\n",
       "      <td>383</td>\n",
       "      <td>21</td>\n",
       "      <td>3.0</td>\n",
       "      <td>789652009</td>\n",
       "      <td>1995-01-09</td>\n",
       "      <td>0.0</td>\n",
       "      <td>0</td>\n",
       "      <td>95.0</td>\n",
       "      <td>NaN</td>\n",
       "      <td>NaN</td>\n",
       "    </tr>\n",
       "    <tr>\n",
       "      <th>1</th>\n",
       "      <td>224</td>\n",
       "      <td>427</td>\n",
       "      <td>3.0</td>\n",
       "      <td>828214011</td>\n",
       "      <td>1996-03-30</td>\n",
       "      <td>0.0</td>\n",
       "      <td>0</td>\n",
       "      <td>110.0</td>\n",
       "      <td>NaN</td>\n",
       "      <td>NaN</td>\n",
       "    </tr>\n",
       "    <tr>\n",
       "      <th>2</th>\n",
       "      <td>224</td>\n",
       "      <td>335</td>\n",
       "      <td>4.0</td>\n",
       "      <td>828214012</td>\n",
       "      <td>1996-03-30</td>\n",
       "      <td>5321508.0</td>\n",
       "      <td>5000000</td>\n",
       "      <td>175.0</td>\n",
       "      <td>NaN</td>\n",
       "      <td>NaN</td>\n",
       "    </tr>\n",
       "    <tr>\n",
       "      <th>3</th>\n",
       "      <td>224</td>\n",
       "      <td>337</td>\n",
       "      <td>4.0</td>\n",
       "      <td>828214012</td>\n",
       "      <td>1996-03-30</td>\n",
       "      <td>11576431.0</td>\n",
       "      <td>0</td>\n",
       "      <td>94.0</td>\n",
       "      <td>NaN</td>\n",
       "      <td>NaN</td>\n",
       "    </tr>\n",
       "    <tr>\n",
       "      <th>4</th>\n",
       "      <td>224</td>\n",
       "      <td>339</td>\n",
       "      <td>4.0</td>\n",
       "      <td>828214012</td>\n",
       "      <td>1996-03-30</td>\n",
       "      <td>2015810.0</td>\n",
       "      <td>3500000</td>\n",
       "      <td>129.0</td>\n",
       "      <td>NaN</td>\n",
       "      <td>NaN</td>\n",
       "    </tr>\n",
       "  </tbody>\n",
       "</table>\n",
       "</div>"
      ],
      "text/plain": [
       "   userId movieId  rating  timestamp       dttm     revenue   budget  runtime  \\\n",
       "0     383      21     3.0  789652009 1995-01-09         0.0        0     95.0   \n",
       "1     224     427     3.0  828214011 1996-03-30         0.0        0    110.0   \n",
       "2     224     335     4.0  828214012 1996-03-30   5321508.0  5000000    175.0   \n",
       "3     224     337     4.0  828214012 1996-03-30  11576431.0        0     94.0   \n",
       "4     224     339     4.0  828214012 1996-03-30   2015810.0  3500000    129.0   \n",
       "\n",
       "   user_mean_rating  user_watch_count  \n",
       "0               NaN               NaN  \n",
       "1               NaN               NaN  \n",
       "2               NaN               NaN  \n",
       "3               NaN               NaN  \n",
       "4               NaN               NaN  "
      ]
     },
     "execution_count": 35,
     "metadata": {},
     "output_type": "execute_result"
    }
   ],
   "source": [
    "main_df[main_df.isna().any(axis=1)].head()"
   ]
  },
  {
   "cell_type": "code",
   "execution_count": 36,
   "metadata": {
    "id": "VanSh7uT7RFn"
   },
   "outputs": [],
   "source": [
    "main_df = pd.merge_asof(\n",
    "    main_df, cumulative_total_cnt,\n",
    "    on = 'dttm', by = 'userId',\n",
    "    direction = 'backward',\n",
    "    allow_exact_matches = True\n",
    "    )\n",
    "assert main_df.shape[0] == interactions_filtered.shape[0]"
   ]
  },
  {
   "cell_type": "code",
   "execution_count": 37,
   "metadata": {
    "id": "ADX7BY2Z7RFn"
   },
   "outputs": [],
   "source": [
    "# tmp  = main_df.loc[main_df['userId'] == 671][['userId', 'dttm']]\n",
    "# pd.merge_asof(\n",
    "#     tmp.sort_values('dttm'), cumulative_total_cnt.sort_values('dttm'),\n",
    "#     on = 'dttm', by = 'userId', direction = 'backward',\n",
    "#     allow_exact_matches = True).sort_values('dttm')"
   ]
  },
  {
   "cell_type": "code",
   "execution_count": 38,
   "metadata": {
    "colab": {
     "base_uri": "https://localhost:8080/"
    },
    "id": "b8_xIDrM7RFn",
    "outputId": "03f2208c-62bf-45ff-d382-e4cfb51cfb9b"
   },
   "outputs": [
    {
     "data": {
      "text/plain": [
       "userId                                0.000000\n",
       "movieId                               0.000000\n",
       "rating                                0.000000\n",
       "timestamp                             0.000000\n",
       "dttm                                  0.000000\n",
       "revenue                               0.000000\n",
       "budget                                0.000000\n",
       "runtime                               0.000000\n",
       "user_mean_rating                      0.616729\n",
       "user_watch_count                      0.616729\n",
       "user_total_watch_count_last_3_days    0.616729\n",
       "dtype: float64"
      ]
     },
     "execution_count": 38,
     "metadata": {},
     "output_type": "execute_result"
    }
   ],
   "source": [
    "# anyway we left some NaN\n",
    "main_df.isnull().sum() / len(main_df) "
   ]
  },
  {
   "cell_type": "code",
   "execution_count": 39,
   "metadata": {
    "id": "vpcdDAn27RFo"
   },
   "outputs": [],
   "source": [
    "FINAL_FEATURES_LIST = ['revenue', 'budget', 'runtime', 'user_mean_rating',\n",
    "                       'user_watch_count', 'user_total_watch_count_last_3_days']"
   ]
  },
  {
   "cell_type": "code",
   "execution_count": 40,
   "metadata": {
    "id": "bFw7x3zw7RFo"
   },
   "outputs": [],
   "source": [
    "ID_COLS = ['userId', 'movieId']"
   ]
  },
  {
   "cell_type": "code",
   "execution_count": 41,
   "metadata": {
    "id": "eHOxWY1S7RFo"
   },
   "outputs": [],
   "source": [
    "TARGET = 'rating'"
   ]
  },
  {
   "cell_type": "code",
   "execution_count": 42,
   "metadata": {
    "colab": {
     "base_uri": "https://localhost:8080/"
    },
    "id": "KTBWZ7ay7RFo",
    "outputId": "4c949d2a-4155-40ad-fce5-3af207b37acc"
   },
   "outputs": [
    {
     "name": "stdout",
     "output_type": "stream",
     "text": [
      "Shape of train set X, y: (33741, 8), 33741\n",
      "Shape of train set X, y: (11248, 8), 11248\n"
     ]
    }
   ],
   "source": [
    "X = main_df[ID_COLS + FINAL_FEATURES_LIST]\n",
    "y = main_df[TARGET]\n",
    "\n",
    "X_train, X_test, y_train, y_test = train_test_split(\n",
    "    X, y,\n",
    "    test_size = TEST_SIZE,\n",
    "    random_state = RANDOM_STATE)\n",
    "\n",
    "print(f'Shape of train set X, y: {X_train.shape}, {len(y_train)}')\n",
    "print(f'Shape of train set X, y: {X_test.shape}, {len(y_test)}')"
   ]
  },
  {
   "cell_type": "markdown",
   "metadata": {
    "id": "HdKj1Klh7RFp"
   },
   "source": [
    "### 2.3.3. Train Model"
   ]
  },
  {
   "cell_type": "code",
   "execution_count": 43,
   "metadata": {
    "id": "dO8g8TEF7RFp"
   },
   "outputs": [],
   "source": [
    "# init model\n",
    "model = CatBoostRegressor(\n",
    "    loss_function = 'MAE',\n",
    "    iterations = 2000,\n",
    "    learning_rate = .1,\n",
    "    depth = 6,\n",
    "    verbose = False\n",
    ")"
   ]
  },
  {
   "cell_type": "code",
   "execution_count": 44,
   "metadata": {
    "colab": {
     "base_uri": "https://localhost:8080/"
    },
    "id": "zJTo1KNo7RFp",
    "outputId": "c59616b0-4f0e-4110-f29d-415a0347165f"
   },
   "outputs": [
    {
     "data": {
      "text/plain": [
       "<catboost.core.CatBoostRegressor at 0x1754f27c910>"
      ]
     },
     "execution_count": 44,
     "metadata": {},
     "output_type": "execute_result"
    }
   ],
   "source": [
    "model.fit(\n",
    "    X_train, y_train,\n",
    "    eval_set=(X_test, y_test),\n",
    "    early_stopping_rounds = 20 # to avoid overfitting,\n",
    ")"
   ]
  },
  {
   "cell_type": "code",
   "execution_count": 45,
   "metadata": {
    "colab": {
     "base_uri": "https://localhost:8080/"
    },
    "id": "1PxtoGsD7RFp",
    "outputId": "1c808aeb-09a4-4326-e043-70f374c2002f"
   },
   "outputs": [
    {
     "data": {
      "text/plain": [
       "{'learn': {'MAE': 0.669018848903783},\n",
       " 'validation': {'MAE': 0.7302817897495212}}"
      ]
     },
     "execution_count": 45,
     "metadata": {},
     "output_type": "execute_result"
    }
   ],
   "source": [
    "model.best_score_"
   ]
  },
  {
   "cell_type": "markdown",
   "metadata": {
    "id": "EF8zRJpj7RFq"
   },
   "source": [
    "# TODO\n",
    "- Add baseline comparison from the model (well, we discussed what is baseline for MAE metric -- now, you have to define, how you are going to calculate it)"
   ]
  },
  {
   "cell_type": "markdown",
   "metadata": {
    "id": "Y4D0BQNgzr81"
   },
   "source": [
    "Baseline regression models includes mean or median, therefore, the average and median values were calculated and entered into the formula instead of y_pred."
   ]
  },
  {
   "cell_type": "code",
   "execution_count": 46,
   "metadata": {
    "id": "HqdR-bcWD2a7"
   },
   "outputs": [],
   "source": [
    "from sklearn.metrics import mean_absolute_error"
   ]
  },
  {
   "cell_type": "code",
   "execution_count": 47,
   "metadata": {
    "colab": {
     "base_uri": "https://localhost:8080/"
    },
    "id": "qQAqx6c_D2d8",
    "outputId": "4b6bac1b-8783-4e21-9cfd-e652d506f619"
   },
   "outputs": [
    {
     "name": "stdout",
     "output_type": "stream",
     "text": [
      "Baseline MAE (mean): 0.8602094932255382, Model MAE: 0.7302827897495214 (ABS difference: 0.12992670347601676)\n",
      "Baseline MAE (median): 0.8440167140825036, Model MAE: 0.7302827897495214 (ABS difference: 0.11373392433298213)\n"
     ]
    }
   ],
   "source": [
    "y_pred = model.predict(X_test)\n",
    "\n",
    "y_baseline_mean = np.full((len(y_test), ), y_test.mean()).tolist()\n",
    "y_baseline_median = np.full((len(y_test), ), y_test.median()).tolist()\n",
    "\n",
    "mae_model = mean_absolute_error(y_test, y_pred)\n",
    "mae_baseline_mean = mean_absolute_error(y_test, y_baseline_mean)\n",
    "mae_baseline_median = mean_absolute_error(y_test, y_baseline_median)\n",
    "\n",
    "print(f'Baseline MAE (mean): {mae_baseline_mean}, Model MAE: {mae_model} (ABS difference: {abs(mae_model - mae_baseline_mean)})')\n",
    "print(f'Baseline MAE (median): {mae_baseline_median}, Model MAE: {mae_model} (ABS difference: {abs(mae_model - mae_baseline_median)})')"
   ]
  },
  {
   "cell_type": "code",
   "execution_count": 48,
   "metadata": {},
   "outputs": [],
   "source": [
    "def fill_na(df: pd.DataFrame, column: str):\n",
    "    df[column] = df[column].fillna(df[column].mean())\n",
    "    return df"
   ]
  },
  {
   "cell_type": "code",
   "execution_count": 49,
   "metadata": {},
   "outputs": [],
   "source": [
    "for col in ['user_mean_rating', 'user_watch_count', 'user_total_watch_count_last_3_days']:\n",
    "    X_train = fill_na(X_train, col)\n",
    "    X_test = fill_na(X_test, col)"
   ]
  },
  {
   "cell_type": "code",
   "execution_count": 50,
   "metadata": {},
   "outputs": [
    {
     "data": {
      "text/html": [
       "<div>\n",
       "<style scoped>\n",
       "    .dataframe tbody tr th:only-of-type {\n",
       "        vertical-align: middle;\n",
       "    }\n",
       "\n",
       "    .dataframe tbody tr th {\n",
       "        vertical-align: top;\n",
       "    }\n",
       "\n",
       "    .dataframe thead th {\n",
       "        text-align: right;\n",
       "    }\n",
       "</style>\n",
       "<table border=\"1\" class=\"dataframe\">\n",
       "  <thead>\n",
       "    <tr style=\"text-align: right;\">\n",
       "      <th></th>\n",
       "      <th>userId</th>\n",
       "      <th>movieId</th>\n",
       "      <th>revenue</th>\n",
       "      <th>budget</th>\n",
       "      <th>runtime</th>\n",
       "      <th>user_mean_rating</th>\n",
       "      <th>user_watch_count</th>\n",
       "      <th>user_total_watch_count_last_3_days</th>\n",
       "    </tr>\n",
       "  </thead>\n",
       "  <tbody>\n",
       "  </tbody>\n",
       "</table>\n",
       "</div>"
      ],
      "text/plain": [
       "Empty DataFrame\n",
       "Columns: [userId, movieId, revenue, budget, runtime, user_mean_rating, user_watch_count, user_total_watch_count_last_3_days]\n",
       "Index: []"
      ]
     },
     "execution_count": 50,
     "metadata": {},
     "output_type": "execute_result"
    }
   ],
   "source": [
    "X_train[X_train.isna().any(axis=1)]"
   ]
  },
  {
   "cell_type": "code",
   "execution_count": 51,
   "metadata": {},
   "outputs": [
    {
     "data": {
      "text/html": [
       "<div>\n",
       "<style scoped>\n",
       "    .dataframe tbody tr th:only-of-type {\n",
       "        vertical-align: middle;\n",
       "    }\n",
       "\n",
       "    .dataframe tbody tr th {\n",
       "        vertical-align: top;\n",
       "    }\n",
       "\n",
       "    .dataframe thead th {\n",
       "        text-align: right;\n",
       "    }\n",
       "</style>\n",
       "<table border=\"1\" class=\"dataframe\">\n",
       "  <thead>\n",
       "    <tr style=\"text-align: right;\">\n",
       "      <th></th>\n",
       "      <th>userId</th>\n",
       "      <th>movieId</th>\n",
       "      <th>revenue</th>\n",
       "      <th>budget</th>\n",
       "      <th>runtime</th>\n",
       "      <th>user_mean_rating</th>\n",
       "      <th>user_watch_count</th>\n",
       "      <th>user_total_watch_count_last_3_days</th>\n",
       "    </tr>\n",
       "  </thead>\n",
       "  <tbody>\n",
       "  </tbody>\n",
       "</table>\n",
       "</div>"
      ],
      "text/plain": [
       "Empty DataFrame\n",
       "Columns: [userId, movieId, revenue, budget, runtime, user_mean_rating, user_watch_count, user_total_watch_count_last_3_days]\n",
       "Index: []"
      ]
     },
     "execution_count": 51,
     "metadata": {},
     "output_type": "execute_result"
    }
   ],
   "source": [
    "X_test[X_test.isna().any(axis=1)]"
   ]
  },
  {
   "cell_type": "code",
   "execution_count": 52,
   "metadata": {},
   "outputs": [],
   "source": [
    "from sklearn.linear_model import LinearRegression"
   ]
  },
  {
   "cell_type": "code",
   "execution_count": 53,
   "metadata": {},
   "outputs": [],
   "source": [
    "# Create linear regression object\n",
    "regr = LinearRegression()\n",
    "\n",
    "# Train the model using the train set\n",
    "regr.fit(X_train, y_train)\n",
    "\n",
    "# Make predictions using the test set\n",
    "y_baseline_regr = regr.predict(X_test)"
   ]
  },
  {
   "cell_type": "code",
   "execution_count": 54,
   "metadata": {},
   "outputs": [
    {
     "name": "stdout",
     "output_type": "stream",
     "text": [
      "Baseline MAE (linear regression): 0.8442452358856042, Model MAE: 0.7302827897495214 (ABS difference: 0.11396244613608275)\n"
     ]
    }
   ],
   "source": [
    "mae_model = mean_absolute_error(y_test, y_pred)\n",
    "mae_baseline_regr = mean_absolute_error(y_test, y_baseline_regr)\n",
    "\n",
    "print(f'Baseline MAE (linear regression): {mae_baseline_regr}, Model MAE: {mae_model} (ABS difference: {abs(mae_model - mae_baseline_regr)})')"
   ]
  }
 ],
 "metadata": {
  "colab": {
   "provenance": []
  },
  "kernelspec": {
   "display_name": "Python 3",
   "language": "python",
   "name": "python3"
  },
  "language_info": {
   "codemirror_mode": {
    "name": "ipython",
    "version": 3
   },
   "file_extension": ".py",
   "mimetype": "text/x-python",
   "name": "python",
   "nbconvert_exporter": "python",
   "pygments_lexer": "ipython3",
   "version": "3.8.3"
  },
  "vscode": {
   "interpreter": {
    "hash": "f2d007ce7c74fe41dcd6cb53c80a05eb04c24d9c4918ecd21236b3a1c808c520"
   }
  }
 },
 "nbformat": 4,
 "nbformat_minor": 1
}
